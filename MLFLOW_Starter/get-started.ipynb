{
 "cells": [
  {
   "cell_type": "code",
   "execution_count": null,
   "metadata": {},
   "outputs": [],
   "source": []
  },
  {
   "cell_type": "code",
   "execution_count": 4,
   "metadata": {},
   "outputs": [],
   "source": [
    "import mlflow\n"
   ]
  },
  {
   "cell_type": "code",
   "execution_count": 5,
   "metadata": {},
   "outputs": [],
   "source": [
    "mlflow.set_tracking_uri(\"http://127.0.0.1:5000\")"
   ]
  },
  {
   "cell_type": "code",
   "execution_count": 6,
   "metadata": {},
   "outputs": [
    {
     "name": "stderr",
     "output_type": "stream",
     "text": [
      "2024/12/18 19:54:22 INFO mlflow.tracking.fluent: Experiment with name 'Check Connection URI' does not exist. Creating a new experiment.\n"
     ]
    },
    {
     "name": "stdout",
     "output_type": "stream",
     "text": [
      "🏃 View run aged-ray-205 at: http://127.0.0.1:5000/#/experiments/336890959583140852/runs/209f5cce89d14978a10cc0eb7ace7235\n",
      "🧪 View experiment at: http://127.0.0.1:5000/#/experiments/336890959583140852\n"
     ]
    }
   ],
   "source": [
    "mlflow.set_experiment(\"Check Connection URI\")\n",
    "\n",
    "with mlflow.start_run():\n",
    "    mlflow.log_metric(\"Hello\",1)\n",
    "    mlflow.log_metric(\"My Name is Jeevan\",2)"
   ]
  }
 ],
 "metadata": {
  "kernelspec": {
   "display_name": "venv",
   "language": "python",
   "name": "python3"
  },
  "language_info": {
   "codemirror_mode": {
    "name": "ipython",
    "version": 3
   },
   "file_extension": ".py",
   "mimetype": "text/x-python",
   "name": "python",
   "nbconvert_exporter": "python",
   "pygments_lexer": "ipython3",
   "version": "3.10.0"
  }
 },
 "nbformat": 4,
 "nbformat_minor": 2
}
